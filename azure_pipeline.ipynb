{
 "cells": [
  {
   "cell_type": "markdown",
   "metadata": {},
   "source": [
    "### Load Libraries ###"
   ]
  },
  {
   "cell_type": "code",
   "execution_count": 142,
   "metadata": {},
   "outputs": [],
   "source": [
    "import os\n",
    "\n",
    "from azure.identity import InteractiveBrowserCredential\n",
    "from azure.ai.ml import MLClient, command, Input, Output\n",
    "from azure.ai.ml.constants import AssetTypes, InputOutputModes, ModelType\n",
    "from azure.ai.ml.entities import Environment, AmlCompute, Data, Model\n",
    "\n",
    "\n",
    "from load_secrets import load_secrets"
   ]
  },
  {
   "cell_type": "markdown",
   "metadata": {},
   "source": [
    "### Connect to Azure"
   ]
  },
  {
   "cell_type": "code",
   "execution_count": 143,
   "metadata": {},
   "outputs": [],
   "source": [
    "tenant_id = load_secrets('secrets.ini')[\"tenant_id\"]\n",
    "credential = InteractiveBrowserCredential(tenant_id=tenant_id)"
   ]
  },
  {
   "cell_type": "code",
   "execution_count": 144,
   "metadata": {},
   "outputs": [
    {
     "name": "stderr",
     "output_type": "stream",
     "text": [
      "Found the config file in: .\\./azure-config.json\n"
     ]
    }
   ],
   "source": [
    "client = MLClient.from_config(credential=credential, file_name=\"./azure-config.json\")"
   ]
  },
  {
   "cell_type": "markdown",
   "metadata": {},
   "source": [
    "### Get workspace"
   ]
  },
  {
   "cell_type": "code",
   "execution_count": 145,
   "metadata": {},
   "outputs": [
    {
     "name": "stdout",
     "output_type": "stream",
     "text": [
      "mlops-e2e-03\n"
     ]
    }
   ],
   "source": [
    "workspace = client.workspaces.get()\n",
    "print(workspace.name)"
   ]
  },
  {
   "cell_type": "code",
   "execution_count": 146,
   "metadata": {},
   "outputs": [],
   "source": [
    "# client.workspaces.get(client.workspace_name).mlflow_tracking_uri"
   ]
  },
  {
   "cell_type": "markdown",
   "metadata": {},
   "source": [
    "### Create Evnvrironment"
   ]
  },
  {
   "cell_type": "code",
   "execution_count": 147,
   "metadata": {},
   "outputs": [],
   "source": [
    "dependencies_dir = \"./dependencies\"\n",
    "os.makedirs(dependencies_dir, exist_ok=True)"
   ]
  },
  {
   "cell_type": "code",
   "execution_count": 148,
   "metadata": {},
   "outputs": [],
   "source": [
    "# %%writefile {dependencies_dir}/conda.yaml\n",
    "# name: model-env\n",
    "# channels:\n",
    "#   - conda-forge\n",
    "# dependencies:\n",
    "#   - python=3.11.5\n",
    "#   - pip\n",
    "#   - pip:\n",
    "#     - pandas==2.2.2\n",
    "#     - numpy==1.26.4\n",
    "#     - seaborn==0.13.2\n",
    "#     - matplotlib==3.8.4\n",
    "#     - torch==2.3.0\n",
    "#     - pillow==10.3.0\n",
    "#     - opencv-python==4.9.0.80\n",
    "#     - torchvision==0.18.0\n",
    "#     - tqdm==4.66.2\n",
    "#     - scikit-learn==1.4.2\n",
    "#     - mlflow==2.12.1\n",
    "#     - azureml-mlflow==1.56.0"
   ]
  },
  {
   "cell_type": "code",
   "execution_count": 149,
   "metadata": {},
   "outputs": [],
   "source": [
    "env_name = \"mlopse2eenv\"\n",
    "\n",
    "env = Environment(\n",
    "    name=env_name,\n",
    "    conda_file=os.path.join(\"dependencies\", \"conda.yaml\"),\n",
    "    # image=\"mcr.microsoft.com/azureml/openmpi3.1.2-ubuntu18.04:latest\"\n",
    "    image=\"mcr.microsoft.com/azureml/curated/mldesigner:24\"\n",
    ")\n",
    "\n",
    "env = client.environments.create_or_update(env)"
   ]
  },
  {
   "cell_type": "code",
   "execution_count": 150,
   "metadata": {},
   "outputs": [
    {
     "name": "stdout",
     "output_type": "stream",
     "text": [
      "Environment with name mlopse2eenv is registered to workspace, the environment version is 1\n"
     ]
    }
   ],
   "source": [
    "print(f\"Environment with name {env.name} is registered to workspace, the environment version is {env.version}\")"
   ]
  },
  {
   "cell_type": "markdown",
   "metadata": {},
   "source": [
    "### Create Compute"
   ]
  },
  {
   "cell_type": "code",
   "execution_count": 151,
   "metadata": {},
   "outputs": [],
   "source": [
    "compute = AmlCompute(name=\"compute1\",\n",
    "                     max_instances=4,\n",
    "                     min_instances=0,\n",
    "                     idle_time_before_scale_down=120,\n",
    "                     type=\"amlcompute\",\n",
    "                     size=\"STANDARD_DS3_v2\")"
   ]
  },
  {
   "cell_type": "code",
   "execution_count": 152,
   "metadata": {},
   "outputs": [],
   "source": [
    "compute = client.compute.begin_create_or_update(compute)"
   ]
  },
  {
   "cell_type": "code",
   "execution_count": 153,
   "metadata": {},
   "outputs": [
    {
     "name": "stdout",
     "output_type": "stream",
     "text": [
      "compute1\n"
     ]
    }
   ],
   "source": [
    "compute_name = next(client.compute.list()).name\n",
    "print(compute_name)"
   ]
  },
  {
   "cell_type": "markdown",
   "metadata": {},
   "source": [
    "### Create data asset"
   ]
  },
  {
   "cell_type": "code",
   "execution_count": 154,
   "metadata": {},
   "outputs": [
    {
     "name": "stderr",
     "output_type": "stream",
     "text": [
      "\u001b[32mUploading raw_data (8.97 MBs): 100%|##########| 8973240/8973240 [00:16<00:00, 541914.64it/s] \n",
      "\u001b[39m\n",
      "\n"
     ]
    },
    {
     "name": "stdout",
     "output_type": "stream",
     "text": [
      "Created data asset\n",
      "Created data asset found\n"
     ]
    }
   ],
   "source": [
    "try:\n",
    "    data_asset = client.data.get(name=\"mlopse2edata\", version=\"1\")\n",
    "    print(\"Data asset already exists\")\n",
    "except Exception as e:\n",
    "    data_asset = Data(\n",
    "        path=\"./data/raw_data/\",\n",
    "        type=AssetTypes.URI_FOLDER,\n",
    "        description=\"CAPTCHA data\",\n",
    "        name=\"mlopse2edata\",\n",
    "        version=\"1\")\n",
    "    client.data.create_or_update(data_asset)  \n",
    "    print(\"Created data asset\")\n",
    "\n",
    "data_asset = client.data.get(name=\"mlopse2edata\", version=\"1\")\n",
    "print(\"Created data asset found\")\n"
   ]
  },
  {
   "cell_type": "code",
   "execution_count": 229,
   "metadata": {},
   "outputs": [
    {
     "name": "stdout",
     "output_type": "stream",
     "text": [
      "azureml://subscriptions/6202d817-1165-4812-9031-c0f106108096/resourcegroups/mlops-e2e/workspaces/mlops-e2e-03/datastores/workspaceblobstore/paths/LocalUpload/62043ef1c8d68645d2daf3f24e844eff/raw_data/\n"
     ]
    }
   ],
   "source": [
    "data_path = data_asset.path\n",
    "print(data_path)"
   ]
  },
  {
   "cell_type": "markdown",
   "metadata": {},
   "source": [
    "### Create pipelines"
   ]
  },
  {
   "cell_type": "code",
   "execution_count": 186,
   "metadata": {},
   "outputs": [],
   "source": [
    "train_inputs = {\n",
    "    \"data\": Input(\n",
    "        type=AssetTypes.URI_FOLDER,\n",
    "        path=data_path,\n",
    "        mode=InputOutputModes.RO_MOUNT),\n",
    "    \"epochs\": 50\n",
    "}\n",
    "\n",
    "# train_outputs = {\n",
    "#     \"model_info\": Output(\n",
    "#         type=AssetTypes\n",
    "#     )\n",
    "# }"
   ]
  },
  {
   "cell_type": "code",
   "execution_count": 187,
   "metadata": {},
   "outputs": [],
   "source": [
    "train_job = command(\n",
    "    name=\"train_job02\",\n",
    "    description=\"Train job for MLOPS E2E\",\n",
    "    display_name=\"train_job\",\n",
    "    inputs=train_inputs,\n",
    "    # outputs=\n",
    "    code=\"./src\",\n",
    "    command=\"python ./pipeline/train_pipeline.py --data ${{inputs.data}} --epochs ${{inputs.epochs}}\",\n",
    "    compute=compute_name,\n",
    "    experiment_name=\"mlopse2e\",\n",
    "    environment=f\"{env.name}@latest\",\n",
    ")"
   ]
  },
  {
   "cell_type": "code",
   "execution_count": 188,
   "metadata": {},
   "outputs": [
    {
     "name": "stderr",
     "output_type": "stream",
     "text": [
      "\u001b[32mUploading src (0.06 MBs): 100%|##########| 59207/59207 [00:09<00:00, 6046.26it/s]  \n",
      "\u001b[39m\n",
      "\n"
     ]
    }
   ],
   "source": [
    "train_job = client.create_or_update(train_job)"
   ]
  },
  {
   "cell_type": "code",
   "execution_count": 190,
   "metadata": {},
   "outputs": [
    {
     "data": {
      "text/plain": [
       "('train_job02', 'Starting')"
      ]
     },
     "execution_count": 190,
     "metadata": {},
     "output_type": "execute_result"
    }
   ],
   "source": [
    "train_job.name, train_job.status"
   ]
  },
  {
   "cell_type": "markdown",
   "metadata": {},
   "source": [
    "## Train job with hyperparameter optimization"
   ]
  },
  {
   "cell_type": "code",
   "execution_count": 204,
   "metadata": {},
   "outputs": [],
   "source": [
    "from azure.ai.ml.sweep import Choice, Uniform, MedianStoppingPolicy"
   ]
  },
  {
   "cell_type": "code",
   "execution_count": 241,
   "metadata": {},
   "outputs": [],
   "source": [
    "train_inputs_sweep = {\n",
    "    \"data\": Input(\n",
    "        type=AssetTypes.URI_FOLDER,\n",
    "        path=data_path,\n",
    "        mode=InputOutputModes.RO_MOUNT),\n",
    "    \"epochs\": 2,\n",
    "    \"learning_rate\": 0.001,\n",
    "    \"batch_size\": 32\n",
    "}"
   ]
  },
  {
   "cell_type": "code",
   "execution_count": 242,
   "metadata": {},
   "outputs": [],
   "source": [
    "train_job_sweep_command = command(\n",
    "    name=\"train_job_sweep\",\n",
    "    description=\"Train job for MLOPS E2E with sweep\",\n",
    "    display_name=\"train_job_sweep\",\n",
    "    inputs=train_inputs_sweep,\n",
    "    # outputs=\n",
    "    code=\"./src\",\n",
    "    command=\"python ./pipeline/train_pipeline.py \\\n",
    "                --data ${{inputs.data}} \\\n",
    "                --epochs ${{inputs.epochs}}\\\n",
    "                --learning_rate ${{inputs.learning_rate}} \\\n",
    "                --batch_size ${{inputs.batch_size}}\",\n",
    "    compute=compute_name,\n",
    "    experiment_name=\"mlopse2e\",\n",
    "    environment=f\"{env.name}@latest\",\n",
    ")"
   ]
  },
  {
   "cell_type": "code",
   "execution_count": 243,
   "metadata": {},
   "outputs": [],
   "source": [
    "train_job_sweep = train_job_sweep_command(\n",
    "    learning_rate=Uniform(min_value=0.001, max_value=0.01),\n",
    "    batch_size=Choice(values=[16, 32])\n",
    "    )"
   ]
  },
  {
   "cell_type": "code",
   "execution_count": 244,
   "metadata": {},
   "outputs": [],
   "source": [
    "train_sweep_job = train_job_sweep.sweep(\n",
    "    compute=compute_name,\n",
    "    sampling_algorithm=\"random\",\n",
    "    primary_metric=\"accuracy\",\n",
    "    goal=\"Maximize\"\n",
    "    )\n",
    "\n",
    "train_sweep_job.set_limits(max_total_trials=20, max_concurrent_trials=10, timeout=7200)\n"
   ]
  },
  {
   "cell_type": "code",
   "execution_count": 245,
   "metadata": {},
   "outputs": [],
   "source": [
    "sweep_train_job = client.create_or_update(train_sweep_job)"
   ]
  },
  {
   "cell_type": "markdown",
   "metadata": {},
   "source": [
    "## Evaluate the model"
   ]
  },
  {
   "cell_type": "code",
   "execution_count": 197,
   "metadata": {},
   "outputs": [
    {
     "data": {
      "text/plain": [
       "'runs:/train_job02/model'"
      ]
     },
     "execution_count": 197,
     "metadata": {},
     "output_type": "execute_result"
    }
   ],
   "source": [
    "# mlflow_model_path = f\"{client.jobs.get(job.name).id}/model\"\n",
    "\n",
    "mlflow_model_path = f\"runs:/{job.name}/model\"\n",
    "mlflow_model_path"
   ]
  },
  {
   "cell_type": "code",
   "execution_count": 198,
   "metadata": {},
   "outputs": [],
   "source": [
    "eval_inputs = {\n",
    "    \"data\": Input(\n",
    "        type=AssetTypes.URI_FOLDER,\n",
    "        path=data_path,\n",
    "        mode=InputOutputModes.RO_MOUNT),\n",
    "    \"model_path\": mlflow_model_path\n",
    "}"
   ]
  },
  {
   "cell_type": "code",
   "execution_count": 201,
   "metadata": {},
   "outputs": [],
   "source": [
    "eval_job = command(\n",
    "    name=\"eval_job03\",\n",
    "    description=\"Eval job for MLOPS E2E\",\n",
    "    display_name=\"eval_job\",\n",
    "    inputs=eval_inputs,\n",
    "    code=\"./src\",\n",
    "    command=\"python ./pipeline/inference_pipeline.py --data ${{inputs.data}} --model_path ${{inputs.model_path}}\",\n",
    "    compute=compute_name,\n",
    "    experiment_name=\"mlopse2e\",\n",
    "    environment=f\"{env.name}@latest\",\n",
    ")"
   ]
  },
  {
   "cell_type": "code",
   "execution_count": 202,
   "metadata": {},
   "outputs": [],
   "source": [
    "eval_job = client.create_or_update(eval_job)"
   ]
  },
  {
   "cell_type": "markdown",
   "metadata": {},
   "source": [
    "### Register and save the model"
   ]
  },
  {
   "cell_type": "markdown",
   "metadata": {},
   "source": [
    "Default model location in AzureML:\n",
    "\"azureml://jobs/~*run-id*~/outputs/artifacts/paths/model/\"\n",
    "\n",
    "\n",
    "run_id is job.name"
   ]
  },
  {
   "cell_type": "code",
   "execution_count": 78,
   "metadata": {},
   "outputs": [],
   "source": [
    "model_path = f\"azureml://jobs/{job.name}/outputs/artifacts/paths/model/\""
   ]
  },
  {
   "cell_type": "code",
   "execution_count": 111,
   "metadata": {},
   "outputs": [
    {
     "data": {
      "text/plain": [
       "'/subscriptions/6202d817-1165-4812-9031-c0f106108096/resourceGroups/mlops-e2e/providers/Microsoft.MachineLearningServices/workspaces/mlops-e2e-02/jobs/train_job04'"
      ]
     },
     "execution_count": 111,
     "metadata": {},
     "output_type": "execute_result"
    }
   ],
   "source": [
    "client.jobs.get(\"train_job04\").id"
   ]
  },
  {
   "cell_type": "code",
   "execution_count": 87,
   "metadata": {},
   "outputs": [],
   "source": [
    "run_model = Model(\n",
    "    path=model_path,\n",
    "    name=\"mlopse2e_model\",\n",
    "    description=\"Model from run.\",\n",
    "    type=\"mlflow_model\"\n",
    ")"
   ]
  },
  {
   "cell_type": "code",
   "execution_count": 88,
   "metadata": {},
   "outputs": [],
   "source": [
    "model = client.models.create_or_update(run_model)"
   ]
  },
  {
   "cell_type": "code",
   "execution_count": 92,
   "metadata": {},
   "outputs": [
    {
     "data": {
      "text/plain": [
       "Model({'job_name': None, 'intellectual_property': None, 'is_anonymous': False, 'auto_increment_version': True, 'auto_delete_setting': None, 'name': 'azureml_train_job02_output_mlflow_log_model_909613730', 'description': None, 'tags': {}, 'properties': {}, 'print_as_yaml': False, 'id': '/subscriptions/6202d817-1165-4812-9031-c0f106108096/resourceGroups/mlops-e2e/providers/Microsoft.MachineLearningServices/workspaces/mlops-e2e-02/models/azureml_train_job02_output_mlflow_log_model_909613730', 'Resource__source_path': '', 'base_path': 'd:\\\\MLOps', 'creation_context': <azure.ai.ml.entities._system_data.SystemData object at 0x0000017C3BBCF350>, 'serialize': <msrest.serialization.Serializer object at 0x0000017C3C1B0C10>, 'version': None, 'latest_version': None, 'path': None, 'datastore': None, 'utc_time_created': None, 'flavors': None, 'arm_type': 'model_version', 'type': 'custom_model', 'stage': None})"
      ]
     },
     "execution_count": 92,
     "metadata": {},
     "output_type": "execute_result"
    }
   ],
   "source": [
    "next(client.models.list())"
   ]
  },
  {
   "cell_type": "markdown",
   "metadata": {},
   "source": []
  }
 ],
 "metadata": {
  "kernelspec": {
   "display_name": "venv",
   "language": "python",
   "name": "python3"
  },
  "language_info": {
   "codemirror_mode": {
    "name": "ipython",
    "version": 3
   },
   "file_extension": ".py",
   "mimetype": "text/x-python",
   "name": "python",
   "nbconvert_exporter": "python",
   "pygments_lexer": "ipython3",
   "version": "3.11.5"
  }
 },
 "nbformat": 4,
 "nbformat_minor": 2
}
