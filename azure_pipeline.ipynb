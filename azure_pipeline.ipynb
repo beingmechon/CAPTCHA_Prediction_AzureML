{
 "cells": [
  {
   "cell_type": "code",
   "execution_count": 58,
   "metadata": {},
   "outputs": [],
   "source": [
    "import os\n",
    "\n",
    "from azure.ai.ml import MLClient\n",
    "from azure.ai.ml.entities import Environment, AmlCompute \n",
    "from azure.identity import InteractiveBrowserCredential\n",
    "\n",
    "from load_secrets import load_secrets"
   ]
  },
  {
   "cell_type": "code",
   "execution_count": 23,
   "metadata": {},
   "outputs": [],
   "source": [
    "tenant_id = load_secrets('secrets.ini')[\"tenant_id\"]"
   ]
  },
  {
   "cell_type": "code",
   "execution_count": 27,
   "metadata": {},
   "outputs": [],
   "source": [
    "credential = InteractiveBrowserCredential(tenant_id=tenant_id)"
   ]
  },
  {
   "cell_type": "code",
   "execution_count": 28,
   "metadata": {},
   "outputs": [
    {
     "name": "stderr",
     "output_type": "stream",
     "text": [
      "Found the config file in: .\\./azure-config.json\n"
     ]
    }
   ],
   "source": [
    "client = MLClient.from_config(credential=credential,\n",
    "    file_name=\"./azure-config.json\")"
   ]
  },
  {
   "cell_type": "code",
   "execution_count": 30,
   "metadata": {},
   "outputs": [
    {
     "name": "stdout",
     "output_type": "stream",
     "text": [
      "mlops-e2e-01\n"
     ]
    }
   ],
   "source": [
    "workspace = client.workspaces.get()\n",
    "print(workspace.name)"
   ]
  },
  {
   "cell_type": "code",
   "execution_count": 121,
   "metadata": {},
   "outputs": [
    {
     "data": {
      "text/plain": [
       "'azureml://centralindia.api.azureml.ms/mlflow/v1.0/subscriptions/6202d817-1165-4812-9031-c0f106108096/resourceGroups/mlops-e2e/providers/Microsoft.MachineLearningServices/workspaces/mlops-e2e-01'"
      ]
     },
     "execution_count": 121,
     "metadata": {},
     "output_type": "execute_result"
    }
   ],
   "source": [
    "client.workspaces.get(client.workspace_name).mlflow_tracking_uri"
   ]
  },
  {
   "cell_type": "code",
   "execution_count": 33,
   "metadata": {},
   "outputs": [],
   "source": [
    "dependencies_dir = \"./dependencies\"\n",
    "os.makedirs(dependencies_dir, exist_ok=True)"
   ]
  },
  {
   "cell_type": "code",
   "execution_count": 41,
   "metadata": {},
   "outputs": [
    {
     "name": "stdout",
     "output_type": "stream",
     "text": [
      "Overwriting ./dependencies/conda.yaml\n"
     ]
    }
   ],
   "source": [
    "# %%writefile {dependencies_dir}/conda.yaml\n",
    "# name: model-env\n",
    "# channels:\n",
    "#   - conda-forge\n",
    "# dependencies:\n",
    "#   - python=3.11.5\n",
    "#   - pip\n",
    "#   - pip:\n",
    "#     - -r ./requirements.txt"
   ]
  },
  {
   "cell_type": "code",
   "execution_count": 125,
   "metadata": {},
   "outputs": [],
   "source": [
    "env_name = \"mlopse2eenv\"\n",
    "\n",
    "env = Environment(\n",
    "    name=env_name,\n",
    "    conda_file=os.path.join(\"dependencies\", \"conda.yaml\"),\n",
    "    # image=\"mcr.microsoft.com/azureml/openmpi3.1.2-ubuntu18.04:latest\"\n",
    "    image=\"mcr.microsoft.com/azureml/curated/mldesigner:24\"\n",
    ")\n",
    "\n",
    "env = client.environments.create_or_update(env)"
   ]
  },
  {
   "cell_type": "code",
   "execution_count": 126,
   "metadata": {},
   "outputs": [
    {
     "name": "stdout",
     "output_type": "stream",
     "text": [
      "Environment with name mlopse2eenv is registered to workspace, the environment version is 2\n"
     ]
    }
   ],
   "source": [
    "print(f\"Environment with name {env.name} is registered to workspace, the environment version is {env.version}\")"
   ]
  },
  {
   "cell_type": "code",
   "execution_count": 127,
   "metadata": {},
   "outputs": [
    {
     "data": {
      "text/plain": [
       "'compute01'"
      ]
     },
     "execution_count": 127,
     "metadata": {},
     "output_type": "execute_result"
    }
   ],
   "source": [
    "next(client.compute.list()).name"
   ]
  },
  {
   "cell_type": "code",
   "execution_count": 128,
   "metadata": {},
   "outputs": [],
   "source": [
    "from azure.ai.ml import command\n",
    "from azure.ai.ml import Input\n"
   ]
  },
  {
   "cell_type": "code",
   "execution_count": 129,
   "metadata": {},
   "outputs": [],
   "source": [
    "train_inputs = {\n",
    "    \"data\": Input(\n",
    "        type=\"uri_file\",\n",
    "        path=\"azureml://subscriptions/6202d817-1165-4812-9031-c0f106108096/resourcegroups/mlops-e2e/workspaces/mlops-e2e-01/datastores/workspaceblobstore/paths/UI/2024-05-08_093653_UTC/raw_data/\",\n",
    "    ),\n",
    "    \"epochs\": 2\n",
    "}"
   ]
  },
  {
   "cell_type": "code",
   "execution_count": 130,
   "metadata": {},
   "outputs": [],
   "source": [
    "train_job = command(\n",
    "    # name=\"train job\",\n",
    "    # description=\"Train job for MLOPS E2E\",\n",
    "    # display_name=\"train job\",\n",
    "    inputs=train_inputs,\n",
    "    code=\"./src\",\n",
    "    command=\"python ./pipeline/train_pipeline.py --data ${{inputs.data}}\",\n",
    "    compute=\"compute01\",\n",
    "    experiment_name=\"mlopse2e\",\n",
    "    environment=f\"{env.name}@latest\",\n",
    ")"
   ]
  },
  {
   "cell_type": "code",
   "execution_count": 131,
   "metadata": {},
   "outputs": [
    {
     "data": {
      "text/html": [
       "<table style=\"width:100%\"><tr><th>Experiment</th><th>Name</th><th>Type</th><th>Status</th><th>Details Page</th></tr><tr><td>mlopse2e</td><td>loving_leg_twr8bkwt8n</td><td>command</td><td>Starting</td><td><a href=\"https://ml.azure.com/runs/loving_leg_twr8bkwt8n?wsid=/subscriptions/6202d817-1165-4812-9031-c0f106108096/resourcegroups/mlops-e2e/workspaces/mlops-e2e-01&amp;tid=75d8bfa4-34ff-45db-8d5e-e4f24b6267c1\" target=\"_blank\" rel=\"noopener\">Link to Azure Machine Learning studio</a></td></tr></table>"
      ],
      "text/plain": [
       "Command({'parameters': {}, 'init': False, 'name': 'loving_leg_twr8bkwt8n', 'type': 'command', 'status': 'Starting', 'log_files': None, 'description': None, 'tags': {}, 'properties': {'mlflow.source.git.repoURL': 'https://github.com/beingmechon/mlops-e2e.git', 'mlflow.source.git.branch': 'main', 'mlflow.source.git.commit': 'b22a343d8d68f9721194be1d1770079014a6a6e7', 'azureml.git.dirty': 'True', '_azureml.ComputeTargetType': 'amlctrain', '_azureml.ClusterName': 'compute01', 'ContentSnapshotId': '415a2ec1-71ae-4227-9d02-f9fbfd11cd79'}, 'print_as_yaml': False, 'id': '/subscriptions/6202d817-1165-4812-9031-c0f106108096/resourceGroups/mlops-e2e/providers/Microsoft.MachineLearningServices/workspaces/mlops-e2e-01/jobs/loving_leg_twr8bkwt8n', 'Resource__source_path': '', 'base_path': 'd:\\\\MLOps', 'creation_context': <azure.ai.ml.entities._system_data.SystemData object at 0x000001949467BB90>, 'serialize': <msrest.serialization.Serializer object at 0x000001949739EC10>, 'allowed_keys': {}, 'key_restriction': False, 'logger': <TraceLogger attr_dict (WARNING)>, 'display_name': 'loving_leg_twr8bkwt8n', 'experiment_name': 'mlopse2e', 'compute': 'compute01', 'services': {'Tracking': {'endpoint': 'azureml://centralindia.api.azureml.ms/mlflow/v1.0/subscriptions/6202d817-1165-4812-9031-c0f106108096/resourceGroups/mlops-e2e/providers/Microsoft.MachineLearningServices/workspaces/mlops-e2e-01?', 'type': 'Tracking'}, 'Studio': {'endpoint': 'https://ml.azure.com/runs/loving_leg_twr8bkwt8n?wsid=/subscriptions/6202d817-1165-4812-9031-c0f106108096/resourcegroups/mlops-e2e/workspaces/mlops-e2e-01&tid=75d8bfa4-34ff-45db-8d5e-e4f24b6267c1', 'type': 'Studio'}}, 'comment': None, 'job_inputs': {'data': {'type': 'uri_file', 'path': 'azureml://subscriptions/6202d817-1165-4812-9031-c0f106108096/resourcegroups/mlops-e2e/workspaces/mlops-e2e-01/datastores/workspaceblobstore/paths/UI/2024-05-08_093653_UTC/raw_data/', 'mode': 'ro_mount'}, 'epochs': '2'}, 'job_outputs': {'default': {'type': 'uri_folder', 'path': 'azureml://datastores/workspaceartifactstore/ExperimentRun/dcid.loving_leg_twr8bkwt8n', 'mode': 'rw_mount'}}, 'inputs': {'data': <azure.ai.ml.entities._job.pipeline._io.base.NodeInput object at 0x0000019493C40910>, 'epochs': <azure.ai.ml.entities._job.pipeline._io.base.NodeInput object at 0x00000194972DD650>}, 'outputs': {'default': <azure.ai.ml.entities._job.pipeline._io.base.NodeOutput object at 0x000001949739FCD0>}, 'component': CommandComponent({'latest_version': None, 'intellectual_property': None, 'auto_increment_version': True, 'source': 'REMOTE.WORKSPACE.JOB', 'is_anonymous': False, 'auto_delete_setting': None, 'name': 'loving_leg_twr8bkwt8n', 'description': None, 'tags': {}, 'properties': {}, 'print_as_yaml': False, 'id': None, 'Resource__source_path': None, 'base_path': 'd:\\\\MLOps', 'creation_context': <azure.ai.ml.entities._system_data.SystemData object at 0x000001949467BB90>, 'serialize': <msrest.serialization.Serializer object at 0x00000194972DF610>, 'command': 'python ./pipeline/train_pipeline.py --data ${{inputs.data}}', 'code': '/subscriptions/6202d817-1165-4812-9031-c0f106108096/resourceGroups/mlops-e2e/providers/Microsoft.MachineLearningServices/workspaces/mlops-e2e-01/codes/ff40f0f3-e961-4541-9539-259a1a8b4d52/versions/1', 'environment_variables': {}, 'environment': '/subscriptions/6202d817-1165-4812-9031-c0f106108096/resourceGroups/mlops-e2e/providers/Microsoft.MachineLearningServices/workspaces/mlops-e2e-01/environments/mlopse2eenv/versions/2', 'distribution': None, 'resources': None, 'queue_settings': None, 'version': None, 'schema': None, 'type': 'command', 'display_name': 'loving_leg_twr8bkwt8n', 'is_deterministic': True, 'inputs': {'data': {'type': 'uri_file', 'path': 'azureml://subscriptions/6202d817-1165-4812-9031-c0f106108096/resourcegroups/mlops-e2e/workspaces/mlops-e2e-01/datastores/workspaceblobstore/paths/UI/2024-05-08_093653_UTC/raw_data/', 'mode': 'ro_mount'}, 'epochs': {'type': 'string', 'default': '2'}}, 'outputs': {'default': {'type': 'uri_folder', 'path': 'azureml://datastores/workspaceartifactstore/ExperimentRun/dcid.loving_leg_twr8bkwt8n', 'mode': 'rw_mount'}}, 'yaml_str': None, 'other_parameter': {'status': 'Starting', 'parameters': {}}, 'additional_includes': []}), 'referenced_control_flow_node_instance_id': None, 'kwargs': {'services': {'Tracking': {'endpoint': 'azureml://centralindia.api.azureml.ms/mlflow/v1.0/subscriptions/6202d817-1165-4812-9031-c0f106108096/resourceGroups/mlops-e2e/providers/Microsoft.MachineLearningServices/workspaces/mlops-e2e-01?', 'type': 'Tracking'}, 'Studio': {'endpoint': 'https://ml.azure.com/runs/loving_leg_twr8bkwt8n?wsid=/subscriptions/6202d817-1165-4812-9031-c0f106108096/resourcegroups/mlops-e2e/workspaces/mlops-e2e-01&tid=75d8bfa4-34ff-45db-8d5e-e4f24b6267c1', 'type': 'Studio'}}, 'status': 'Starting', 'creation_context': <azure.ai.ml.entities._system_data.SystemData object at 0x000001949467BB90>}, 'instance_id': '22b4e464-19f8-4fc8-9403-5028a9919d19', 'source': 'BUILDER', 'validate_required_input_not_provided': True, 'limits': None, 'identity': None, 'distribution': None, 'environment_variables': {}, 'environment': 'mlopse2eenv:2', 'resources': {'instance_count': 1, 'shm_size': '2g'}, 'queue_settings': None, 'swept': False})"
      ]
     },
     "execution_count": 131,
     "metadata": {},
     "output_type": "execute_result"
    }
   ],
   "source": [
    "client.create_or_update(train_job)"
   ]
  },
  {
   "cell_type": "code",
   "execution_count": null,
   "metadata": {},
   "outputs": [],
   "source": []
  }
 ],
 "metadata": {
  "kernelspec": {
   "display_name": "venv",
   "language": "python",
   "name": "python3"
  },
  "language_info": {
   "codemirror_mode": {
    "name": "ipython",
    "version": 3
   },
   "file_extension": ".py",
   "mimetype": "text/x-python",
   "name": "python",
   "nbconvert_exporter": "python",
   "pygments_lexer": "ipython3",
   "version": "3.11.5"
  }
 },
 "nbformat": 4,
 "nbformat_minor": 2
}
